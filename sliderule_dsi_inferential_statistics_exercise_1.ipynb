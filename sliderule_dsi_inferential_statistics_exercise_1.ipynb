{
 "cells": [
  {
   "cell_type": "markdown",
   "metadata": {},
   "source": [
    "# What is the True Normal Human Body Temperature? \n",
    "\n",
    "#### Background\n",
    "\n",
    "The mean normal body temperature was held to be 37$^{\\circ}$C or 98.6$^{\\circ}$F for more than 120 years since it was first conceptualized and reported by Carl Wunderlich in a famous 1868 book. But, is this value statistically correct?"
   ]
  },
  {
   "cell_type": "markdown",
   "metadata": {},
   "source": [
    "<h3>Exercises</h3>\n",
    "\n",
    "<p>In this exercise, you will analyze a dataset of human body temperatures and employ the concepts of hypothesis testing, confidence intervals, and statistical significance.</p>\n",
    "\n",
    "<p>Answer the following questions <b>in this notebook below and submit to your Github account</b>.</p> \n",
    "\n",
    "<ol>\n",
    "<li>  Is the distribution of body temperatures normal? \n",
    "    <ul>\n",
    "    <li> Although this is not a requirement for the Central Limit Theorem to hold (read the introduction on Wikipedia's page about the CLT carefully: https://en.wikipedia.org/wiki/Central_limit_theorem), it gives us some peace of mind that the population may also be normally distributed if we assume that this sample is representative of the population.\n",
    "    <li> Think about the way you're going to check for the normality of the distribution. Graphical methods are usually used first, but there are also other ways: https://en.wikipedia.org/wiki/Normality_test\n",
    "    </ul>\n",
    "<li>  Is the sample size large? Are the observations independent?\n",
    "    <ul>\n",
    "    <li> Remember that this is a condition for the Central Limit Theorem, and hence the statistical tests we are using, to apply.\n",
    "    </ul>\n",
    "<li>  Is the true population mean really 98.6 degrees F?\n",
    "    <ul>\n",
    "    <li> First, try a bootstrap hypothesis test.\n",
    "    <li> Now, let's try frequentist statistical testing. Would you use a one-sample or two-sample test? Why?\n",
    "    <li> In this situation, is it appropriate to use the $t$ or $z$ statistic? \n",
    "    <li> Now try using the other test. How is the result be different? Why?\n",
    "    </ul>\n",
    "<li>  Draw a small sample of size 10 from the data and repeat both frequentist tests. \n",
    "    <ul>\n",
    "    <li> Which one is the correct one to use? \n",
    "    <li> What do you notice? What does this tell you about the difference in application of the $t$ and $z$ statistic?\n",
    "    </ul>\n",
    "<li>  At what temperature should we consider someone's temperature to be \"abnormal\"?\n",
    "    <ul>\n",
    "    <li> As in the previous example, try calculating everything using the boostrap approach, as well as the frequentist approach.\n",
    "    <li> Start by computing the margin of error and confidence interval. When calculating the confidence interval, keep in mind that you should use the appropriate formula for one draw, and not N draws.\n",
    "    </ul>\n",
    "<li>  Is there a significant difference between males and females in normal temperature?\n",
    "    <ul>\n",
    "    <li> What testing approach did you use and why?\n",
    "    <li> Write a story with your conclusion in the context of the original problem.\n",
    "    </ul>\n",
    "</ol>\n",
    "\n",
    "You can include written notes in notebook cells using Markdown: \n",
    "   - In the control panel at the top, choose Cell > Cell Type > Markdown\n",
    "   - Markdown syntax: http://nestacms.com/docs/creating-content/markdown-cheat-sheet\n",
    "\n",
    "#### Resources\n",
    "\n",
    "+ Information and data sources: http://www.amstat.org/publications/jse/datasets/normtemp.txt, http://www.amstat.org/publications/jse/jse_data_archive.htm\n",
    "+ Markdown syntax: http://nestacms.com/docs/creating-content/markdown-cheat-sheet\n",
    "\n",
    "****"
   ]
  },
  {
   "cell_type": "code",
   "execution_count": 7,
   "metadata": {},
   "outputs": [],
   "source": [
    "import pandas as pd\n",
    "import matplotlib.pyplot as plt\n",
    "import pandas as pd\n",
    "import matplotlib.pyplot as plt\n",
    "import numpy as np \n",
    "import math\n",
    "import scipy.stats as st\n",
    "\n",
    "df = pd.read_csv('data/human_body_temperature.csv')"
   ]
  },
  {
   "cell_type": "code",
   "execution_count": 3,
   "metadata": {},
   "outputs": [
    {
     "name": "stderr",
     "output_type": "stream",
     "text": [
      "C:\\Users\\vu.nguyen.SILIXA\\AppData\\Local\\Continuum\\Anaconda_Springboard\\lib\\site-packages\\matplotlib\\axes\\_axes.py:6521: MatplotlibDeprecationWarning: \n",
      "The 'normed' kwarg was deprecated in Matplotlib 2.1 and will be removed in 3.1. Use 'density' instead.\n",
      "  alternative=\"'density'\", removal=\"3.1\")\n"
     ]
    },
    {
     "data": {
      "text/plain": [
       "(array([0.17094017, 0.        , 0.17094017, 0.        , 0.        ,\n",
       "        0.        , 0.        , 0.        , 0.34188034, 0.        ,\n",
       "        0.        , 0.17094017, 0.        , 0.17094017, 0.        ,\n",
       "        0.17094017, 0.        , 0.51282051, 0.        , 0.        ,\n",
       "        0.51282051, 0.        , 0.17094017, 0.        , 0.85470085,\n",
       "        0.        , 0.34188034, 0.        , 0.68376068, 0.        ,\n",
       "        0.        , 0.51282051, 0.        , 1.1965812 , 0.        ,\n",
       "        0.85470085, 0.        , 1.88034188, 0.        , 0.        ,\n",
       "        0.51282051, 0.        , 1.70940171, 0.        , 0.85470085,\n",
       "        0.        , 1.53846154, 0.        , 0.51282051, 0.        ,\n",
       "        0.        , 1.70940171, 0.        , 1.36752137, 0.        ,\n",
       "        1.70940171, 0.        , 0.34188034, 0.        , 0.        ,\n",
       "        0.85470085, 0.        , 0.51282051, 0.        , 0.51282051,\n",
       "        0.        , 0.34188034, 0.        , 0.34188034, 0.        ,\n",
       "        0.        , 0.17094017, 0.        , 0.        , 0.        ,\n",
       "        0.        , 0.        , 0.        , 0.        , 0.        ,\n",
       "        0.17094017, 0.        , 0.17094017, 0.        , 0.        ,\n",
       "        0.        , 0.        , 0.        , 0.        , 0.        ,\n",
       "        0.        , 0.        , 0.        , 0.        , 0.        ,\n",
       "        0.        , 0.        , 0.        , 0.        , 0.17094017]),\n",
       " array([ 96.3  ,  96.345,  96.39 ,  96.435,  96.48 ,  96.525,  96.57 ,\n",
       "         96.615,  96.66 ,  96.705,  96.75 ,  96.795,  96.84 ,  96.885,\n",
       "         96.93 ,  96.975,  97.02 ,  97.065,  97.11 ,  97.155,  97.2  ,\n",
       "         97.245,  97.29 ,  97.335,  97.38 ,  97.425,  97.47 ,  97.515,\n",
       "         97.56 ,  97.605,  97.65 ,  97.695,  97.74 ,  97.785,  97.83 ,\n",
       "         97.875,  97.92 ,  97.965,  98.01 ,  98.055,  98.1  ,  98.145,\n",
       "         98.19 ,  98.235,  98.28 ,  98.325,  98.37 ,  98.415,  98.46 ,\n",
       "         98.505,  98.55 ,  98.595,  98.64 ,  98.685,  98.73 ,  98.775,\n",
       "         98.82 ,  98.865,  98.91 ,  98.955,  99.   ,  99.045,  99.09 ,\n",
       "         99.135,  99.18 ,  99.225,  99.27 ,  99.315,  99.36 ,  99.405,\n",
       "         99.45 ,  99.495,  99.54 ,  99.585,  99.63 ,  99.675,  99.72 ,\n",
       "         99.765,  99.81 ,  99.855,  99.9  ,  99.945,  99.99 , 100.035,\n",
       "        100.08 , 100.125, 100.17 , 100.215, 100.26 , 100.305, 100.35 ,\n",
       "        100.395, 100.44 , 100.485, 100.53 , 100.575, 100.62 , 100.665,\n",
       "        100.71 , 100.755, 100.8  ]),\n",
       " <a list of 100 Patch objects>)"
      ]
     },
     "execution_count": 3,
     "metadata": {},
     "output_type": "execute_result"
    },
    {
     "data": {
      "image/png": "[encoded data removed]",
      "text/plain": [
       "<Figure size 432x288 with 1 Axes>"
      ]
     },
     "metadata": {
      "needs_background": "light"
     },
     "output_type": "display_data"
    }
   ],
   "source": [
    "plt.hist(df['temperature'], bins=100, normed=True)\n"
   ]
  },
  {
   "cell_type": "raw",
   "metadata": {},
   "source": [
    "1/ The plot show the bell-shaped curve. Therefore, the distribution of human body temperature is normal "
   ]
  },
  {
   "cell_type": "code",
   "execution_count": 8,
   "metadata": {},
   "outputs": [
    {
     "name": "stdout",
     "output_type": "stream",
     "text": [
      "<class 'pandas.core.frame.DataFrame'>\n",
      "RangeIndex: 130 entries, 0 to 129\n",
      "Data columns (total 3 columns):\n",
      "temperature    130 non-null float64\n",
      "gender         130 non-null object\n",
      "heart_rate     130 non-null float64\n",
      "dtypes: float64(2), object(1)\n",
      "memory usage: 3.1+ KB\n"
     ]
    }
   ],
   "source": [
    "df.info()"
   ]
  },
  {
   "cell_type": "markdown",
   "metadata": {},
   "source": [
    "2/ As its shown, there are 130 data points for temperature, gender and hear rate, which is bigger than 30. Therefore, the data size is big enough "
   ]
  },
  {
   "cell_type": "markdown",
   "metadata": {},
   "source": [
    "3/ Is the true population mean really 98.6 degrees F?"
   ]
  },
  {
   "cell_type": "code",
   "execution_count": 9,
   "metadata": {},
   "outputs": [],
   "source": [
    "def bootstrap_replicate_1d(data,func,n):\n",
    "    \n",
    "    bs_sample=np.random.choice(data,n)\n",
    "    \n",
    "    return func(bs_sample)\n",
    "\n",
    "def draw_bs_reps(data,func,n,size=1):\n",
    "    bs_replicates=np.empty(size)\n",
    "    \n",
    "    for i in range (size):\n",
    "        bs_replicates[i]=bootstrap_replicate_1d(data,func,n)\n",
    "        \n",
    "    return bs_replicates"
   ]
  },
  {
   "cell_type": "code",
   "execution_count": 10,
   "metadata": {},
   "outputs": [
    {
     "data": {
      "text/plain": [
       "(array([  43.,  269.,  958., 2153., 2805., 2307., 1121.,  281.,   56.,\n",
       "           7.]),\n",
       " array([97.906 , 97.9818, 98.0576, 98.1334, 98.2092, 98.285 , 98.3608,\n",
       "        98.4366, 98.5124, 98.5882, 98.664 ]),\n",
       " <a list of 10 Patch objects>)"
      ]
     },
     "execution_count": 10,
     "metadata": {},
     "output_type": "execute_result"
    },
    {
     "data": {
      "image/png": "[encoded data removed]",
      "text/plain": [
       "<Figure size 432x288 with 1 Axes>"
      ]
     },
     "metadata": {
      "needs_background": "light"
     },
     "output_type": "display_data"
    }
   ],
   "source": [
    "bs_mean=draw_bs_reps(df['temperature'],np.mean,50,10000)\n",
    "\n",
    "bs_std=draw_bs_reps(df['temperature'],np.std,50,10000)\n",
    "\n",
    "plt.hist(bs_mean)"
   ]
  },
  {
   "cell_type": "markdown",
   "metadata": {},
   "source": [
    "The distribution of the mean sampling by boostrap is normal. Next we calculate 95% and 99% Confidence Interval to see if the mean of \n",
    "human body temperature determined by Carl Wunderlich will be included in the range \n"
   ]
  },
  {
   "cell_type": "code",
   "execution_count": 11,
   "metadata": {},
   "outputs": [
    {
     "name": "stdout",
     "output_type": "stream",
     "text": [
      "95% confidence interval = [98.048   98.45205]\n",
      "99% confidence interval = [97.984 98.522]\n"
     ]
    }
   ],
   "source": [
    "# Compute 95% confidence interval \n",
    "ci_95=np.percentile(bs_mean,[2.5,97.5])\n",
    "print('95% confidence interval =', ci_95)\n",
    "\n",
    "# Compute 99% confidence interval \n",
    "ci_99=np.percentile(bs_mean,[0.5,99.5])\n",
    "print('99% confidence interval =', ci_99)"
   ]
  },
  {
   "cell_type": "markdown",
   "metadata": {},
   "source": [
    "As we can see from 95% and 99% confidence interval, the normal body temperature proposed by Carl Wunderlich \n",
    "was not included in neither 95% and 99% inverval."
   ]
  },
  {
   "cell_type": "markdown",
   "metadata": {},
   "source": [
    "Next, the hypothesis test is carried out to see if we can reject the null hypthosis.\n",
    "\n",
    "Ho: The mean normal body temperature was held to be 98.6F \n",
    "\n",
    "Ha: The mean normal body temperature was not equal to 98.6 F \n",
    "\n",
    "The significant level is set to 5 % \n"
   ]
  },
  {
   "cell_type": "code",
   "execution_count": 12,
   "metadata": {},
   "outputs": [
    {
     "name": "stdout",
     "output_type": "stream",
     "text": [
      "The probablity is :  0.030544562023924728\n"
     ]
    }
   ],
   "source": [
    "mean_sm= np.mean(bs_mean)\n",
    "mean_std=np.mean(bs_std)\n",
    "\n",
    "Z=(mean_sm-98.6)/(mean_std/math.sqrt(50))\n",
    "\n",
    "prob_z=st.norm.sf(abs(Z))\n",
    "\n",
    "print('The probablity is : ', prob_z*100)"
   ]
  },
  {
   "cell_type": "markdown",
   "metadata": {},
   "source": [
    "Because the probability to obtain the mean from bootstrap sampling given the null hypotheis is less than the significant level\n",
    "the null hypothesis can be rejected. "
   ]
  },
  {
   "cell_type": "markdown",
   "metadata": {},
   "source": []
  },
  {
   "cell_type": "code",
   "execution_count": null,
   "metadata": {},
   "outputs": [],
   "source": [
    "frequentist statistical testing. Would you use a one-sample or two-sample test? Why?"
   ]
  },
  {
   "cell_type": "code",
   "execution_count": null,
   "metadata": {},
   "outputs": [],
   "source": [
    "The objective here is to find the population mean for the human normal temperature and see if it's equal to a specific value 98.6F.\n",
    "So one-sample test would be enough. "
   ]
  },
  {
   "cell_type": "code",
   "execution_count": 13,
   "metadata": {},
   "outputs": [],
   "source": [
    "mean_temp=np.mean(df['temperature'])"
   ]
  },
  {
   "cell_type": "code",
   "execution_count": 14,
   "metadata": {},
   "outputs": [],
   "source": [
    "std_temp=np.std(df['temperature'])"
   ]
  },
  {
   "cell_type": "markdown",
   "metadata": {},
   "source": [
    "Using Z-Score "
   ]
  },
  {
   "cell_type": "code",
   "execution_count": null,
   "metadata": {},
   "outputs": [],
   "source": [
    "Z_freq=(mean_temp-98.6)/(std_temp/math.sqrt(len(df)))\n",
    "prob=st.norm.sf(abs(Z_freq))\n",
    "\n",
    "print('The probability is:', prob)"
   ]
  },
  {
   "cell_type": "markdown",
   "metadata": {},
   "source": [
    "Because the probability is less than significant level, the null hypothesis can be rejected."
   ]
  },
  {
   "cell_type": "markdown",
   "metadata": {},
   "source": [
    "Using T-Score"
   ]
  },
  {
   "cell_type": "code",
   "execution_count": 25,
   "metadata": {},
   "outputs": [
    {
     "name": "stdout",
     "output_type": "stream",
     "text": [
      "t_score : -5.4548232923645195    p_value : 2.4106320415561276e-07\n"
     ]
    }
   ],
   "source": [
    "from scipy import stats \n",
    "t_test=stats.ttest_1samp(df['temperature'],98.6)\n",
    "\n",
    "print ('t_score : ' + str(t_test[0]) + '    p_value : ' + str(t_test[1]))"
   ]
  },
  {
   "cell_type": "markdown",
   "metadata": {},
   "source": [
    "In this case, because n>30, it's more appropriate to use Z score than t-score. "
   ]
  },
  {
   "cell_type": "markdown",
   "metadata": {},
   "source": [
    "4/ Draw a small sample of size 10 from the data and repeat both frequentist tests.\n",
    "Which one is the correct one to use?\n",
    "What do you notice? What does this tell you about the difference in application of the  𝑡  and  𝑧  statistic?"
   ]
  },
  {
   "cell_type": "code",
   "execution_count": 42,
   "metadata": {},
   "outputs": [
    {
     "name": "stdout",
     "output_type": "stream",
     "text": [
      "The probability is: 0.002531016063134046\n"
     ]
    }
   ],
   "source": [
    "sample_10 = random.sample(list(df['temperature']), 10)\n",
    "mean_temp_10=np.mean(sample_10)\n",
    "std_temp_10=np.std(sample_10)\n",
    "\n",
    "Z_freq=(mean_temp_10-98.6)/(std_temp_10/math.sqrt(10))\n",
    "prob=st.norm.sf(abs(Z_freq))\n",
    "\n",
    "print('The probability is:', prob)"
   ]
  },
  {
   "cell_type": "markdown",
   "metadata": {},
   "source": []
  },
  {
   "cell_type": "code",
   "execution_count": 34,
   "metadata": {},
   "outputs": [
    {
     "name": "stdout",
     "output_type": "stream",
     "text": [
      "t_score : -0.7118618716695648    p_value : 0.49458787310825836\n"
     ]
    }
   ],
   "source": [
    "import random\n",
    "\n",
    "t_test=stats.ttest_1samp(sample_10,98.6)\n",
    "\n",
    "print ('t_score : ' + str(t_test[0]) + '    p_value : ' + str(t_test[1]))"
   ]
  },
  {
   "cell_type": "markdown",
   "metadata": {},
   "source": [
    "At what temperature should we consider someone's temperature to be \"abnormal\"?\n",
    "As in the previous example, try calculating everything using the boostrap approach, as well as the frequentist approach.\n",
    "Start by computing the margin of error and confidence interval. When calculating the confidence interval, keep in mind that you should use the appropriate formula for one draw, and not N draws."
   ]
  },
  {
   "cell_type": "code",
   "execution_count": 45,
   "metadata": {},
   "outputs": [
    {
     "name": "stdout",
     "output_type": "stream",
     "text": [
      "Anything outside of the range 98.08344694462578  and 98.41820156412955  are abnormal temperature\n"
     ]
    }
   ],
   "source": [
    "#Bootstrap approach: using n=50, 95% CI \n",
    "\n",
    "std_error=mean_std/math.sqrt(50)\n",
    "\n",
    "upper_lim=mean_sm+1.64*std_error\n",
    "lower_lim=mean_sm-1.65*std_error\n",
    "\n",
    "print('Anything outside of the range', str(lower_lim), ' and',str(upper_lim), ' are abnormal temperature')"
   ]
  },
  {
   "cell_type": "code",
   "execution_count": 46,
   "metadata": {},
   "outputs": [
    {
     "name": "stdout",
     "output_type": "stream",
     "text": [
      "Anything outside of the range 98.1435373549837  and 98.35428361733089  are abnormal temperature\n"
     ]
    }
   ],
   "source": [
    "# Frequentist approach\n",
    "std_error=std_temp/math.sqrt(130)\n",
    "\n",
    "upper_lim=mean_temp+1.64*std_error\n",
    "lower_lim=mean_temp-1.65*std_error\n",
    "\n",
    "print('Anything outside of the range', str(lower_lim), ' and',str(upper_lim), ' are abnormal temperature')"
   ]
  },
  {
   "cell_type": "code",
   "execution_count": null,
   "metadata": {},
   "outputs": [],
   "source": [
    "Is there a significant difference between males and females in normal temperature?\n",
    "What testing approach did you use and why?\n",
    "Write a story with your conclusion in the context of the original problem."
   ]
  },
  {
   "cell_type": "code",
   "execution_count": 49,
   "metadata": {},
   "outputs": [],
   "source": [
    "def bootstrap_replicate_1d(data,func,n):\n",
    "    \n",
    "    bs_sample=np.random.choice(data,n)\n",
    "    \n",
    "    return func(bs_sample)\n",
    "\n",
    "def draw_bs_reps(data,func,n,size=1):\n",
    "    bs_replicates=np.empty(size)\n",
    "    \n",
    "    for i in range (size):\n",
    "        bs_replicates[i]=bootstrap_replicate_1d(data,func,n)\n",
    "        \n",
    "    return bs_replicates"
   ]
  },
  {
   "cell_type": "code",
   "execution_count": 54,
   "metadata": {},
   "outputs": [
    {
     "data": {
      "text/plain": [
       "(array([  20.,  132.,  746., 1862., 2979., 2600., 1214.,  375.,   62.,\n",
       "          10.]),\n",
       " array([98.01  , 98.0908, 98.1716, 98.2524, 98.3332, 98.414 , 98.4948,\n",
       "        98.5756, 98.6564, 98.7372, 98.818 ]),\n",
       " <a list of 10 Patch objects>)"
      ]
     },
     "execution_count": 54,
     "metadata": {},
     "output_type": "execute_result"
    },
    {
     "data": {
      "image/png": "[encoded data removed]",
      "text/plain": [
       "<Figure size 432x288 with 1 Axes>"
      ]
     },
     "metadata": {
      "needs_background": "light"
     },
     "output_type": "display_data"
    },
    {
     "data": {
      "image/png": "[encoded data removed]",
      "text/plain": [
       "<Figure size 432x288 with 1 Axes>"
      ]
     },
     "metadata": {
      "needs_background": "light"
     },
     "output_type": "display_data"
    }
   ],
   "source": [
    "male_temp=df[df['gender']=='M']\n",
    "female_temp=df[df['gender']=='F']\n",
    "\n",
    "\n",
    "bs_male_temp_mean=draw_bs_reps(male_temp['temperature'],np.mean,50,10000)\n",
    "bs_male_temp_std=draw_bs_reps(male_temp['temperature'],np.std,50,10000)\n",
    "\n",
    "\n",
    "bs_female_temp_mean=draw_bs_reps(female_temp['temperature'],np.mean,50,10000)\n",
    "bs_female_temp_std=draw_bs_reps(female_temp['temperature'],np.std,50,10000)\n",
    "\n",
    "plt.figure()\n",
    "plt.hist(bs_male_temp_mean)\n",
    "\n",
    "plt.figure()\n",
    "plt.hist(bs_female_temp_mean)\n",
    "\n"
   ]
  },
  {
   "cell_type": "code",
   "execution_count": 55,
   "metadata": {},
   "outputs": [
    {
     "name": "stdout",
     "output_type": "stream",
     "text": [
      "The probablity is :  0.0\n"
     ]
    }
   ],
   "source": [
    "bs_male_mean_temp_ave=np.mean(bs_male_temp_mean)\n",
    "bs_male_std_temp_ave=np.mean(bs_male_temp_std)\n",
    "\n",
    "bs_female_mean_temp_ave=np.mean(bs_female_temp_mean)\n",
    "bs_female_std_temp_ave=np.mean(bs_female_temp_std)\n",
    "\n",
    "mean_dff=bs_male_mean_temp_ave-bs_female_mean_temp_ave\n",
    "\n",
    "Z=(mean_dff)/(math.sqrt((bs_male_std_temp_ave/130)**2 +(bs_female_std_temp_ave/130)**2 ) )\n",
    "\n",
    "prob_z=st.norm.sf(abs(Z))\n",
    "\n",
    "print('The probablity is : ', prob_z*100)\n",
    "\n"
   ]
  },
  {
   "cell_type": "code",
   "execution_count": null,
   "metadata": {},
   "outputs": [],
   "source": [
    "Because the probability is less than significant level, the null hypothesis is rejected. "
   ]
  }
 ],
 "metadata": {
  "kernelspec": {
   "display_name": "Python 3",
   "language": "python",
   "name": "python3"
  },
  "language_info": {
   "codemirror_mode": {
    "name": "ipython",
    "version": 3
   },
   "file_extension": ".py",
   "mimetype": "text/x-python",
   "name": "python",
   "nbconvert_exporter": "python",
   "pygments_lexer": "ipython3",
   "version": "3.7.3"
  }
 },
 "nbformat": 4,
 "nbformat_minor": 1
}
